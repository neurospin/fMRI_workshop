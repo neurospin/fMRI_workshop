{
 "cells": [
  {
   "cell_type": "markdown",
   "id": "7d8615d5",
   "metadata": {},
   "source": [
    "#  NeuroSpin tutorial, subject-level encoding models (beginner level)\n",
    "__Content creator:__ Florent Meyniel, NeuroSpin, CEA Paris-Saclay\n",
    "\n",
    "This notebook contains a few examples used in the course."
   ]
  },
  {
   "cell_type": "code",
   "execution_count": null,
   "id": "3ecd96cd",
   "metadata": {},
   "outputs": [],
   "source": [
    "from nilearn.glm.first_level import make_first_level_design_matrix\n",
    "import numpy as np\n",
    "from statsmodels.tsa.arima_process import ArmaProcess\n",
    "import pandas as pd\n",
    "import matplotlib.pyplot as plt\n",
    "from ipywidgets import interact, widgets\n",
    "from nilearn.glm.first_level import run_glm\n",
    "from nilearn.glm import compute_contrast\n",
    "from IPython.display import clear_output"
   ]
  },
  {
   "cell_type": "markdown",
   "id": "6eb445cc",
   "metadata": {},
   "source": [
    "## Example #1  Effect of timing of stimuli on the measured fMRI signal"
   ]
  },
  {
   "cell_type": "markdown",
   "id": "d7ef0f17",
   "metadata": {},
   "source": [
    "This function simulates (noisy) fMRI recording in a simple task with two tones that alternate in a sequence."
   ]
  },
  {
   "cell_type": "code",
   "execution_count": null,
   "id": "451f5fa2",
   "metadata": {},
   "outputs": [],
   "source": [
    "def simulate_bold_response(SOA, evoked_response, noise):\n",
    "    # parameters\n",
    "    TR = 1.5\n",
    "    nscans = 80\n",
    "    frame_times = np.cumsum([0]+[TR]*(nscans-1))\n",
    "\n",
    "    # create a random sequence of two tones\n",
    "    n_stim = len(evoked_response)*5\n",
    "    events = pd.DataFrame(\n",
    "        {'onset': np.cumsum([SOA]*n_stim),\n",
    "         'trial_type': [f\"tone_{id}\" for id in range(len(evoked_response))]*5,\n",
    "         'duration': [0]*n_stim,\n",
    "         'modulation': evoked_response*5})\n",
    "\n",
    "    # Forward model: compute response elicted by\n",
    "    # those tones\n",
    "    dmtx = make_first_level_design_matrix(\n",
    "        frame_times,\n",
    "        events=pd.DataFrame(events),\n",
    "        hrf_model='spm',\n",
    "        drift_model=None)\n",
    "\n",
    "    # simulate uncorrupted fMRI signal as the effect of the tones\n",
    "    signal = pd.DataFrame()\n",
    "    signal['raw'] = np.sum(dmtx.filter(like='tone_'), axis=1)\n",
    "    signal['raw'] /= signal['raw'].mean()\n",
    "\n",
    "    # corrupt signal with autocorrelated noise\n",
    "    ma = np.array([1])  # unit moving average\n",
    "    ar1 = np.array([1, -0.5])  # level of AR1 correlation\n",
    "    arma_process = ArmaProcess(ar1, ma)\n",
    "    signal['noisy'] = signal['raw'] + noise*arma_process.generate_sample(nscans)\n",
    "\n",
    "    return events, dmtx, signal"
   ]
  },
  {
   "cell_type": "markdown",
   "id": "1de110e9",
   "metadata": {},
   "source": [
    "Plot the fMRI signal, as a function of the SOA (time between two tones), the differential response elicited by the two tones, and the noise level."
   ]
  },
  {
   "cell_type": "code",
   "execution_count": null,
   "id": "48094b1d",
   "metadata": {},
   "outputs": [],
   "source": [
    "style = {\"description_width\": \"200px\"}\n",
    "layout = {'width': '400px'}\n",
    "\n",
    "@interact(SOA=widgets.FloatSlider(min=0, max=10, value=10, step=1,\n",
    "                                       style=style, layout=layout,\n",
    "                                       description=\"SOA\"), \n",
    "          evoked_response=widgets.FloatSlider(min=0, max=2, value=1, \n",
    "                                   style=style, layout=layout,\n",
    "                                   description=\"Differential response\"),\n",
    "          noise=widgets.FloatSlider(min=0., max=1, value=0., step=0.1,\n",
    "                                      style=style, layout=layout,\n",
    "                                      description=\"Noise level\"))\n",
    "def plot_signal(SOA, evoked_response, noise):\n",
    "    events, simulation, signal = simulate_bold_response(SOA, [1, 1+evoked_response], noise)\n",
    "\n",
    "    # neural signal\n",
    "    plt.figure()\n",
    "    plt.subplot(2,1,1)\n",
    "    plt.stem(events['onset'], events['modulation'])\n",
    "    plt.xlim([simulation.index[0], simulation.index[-1]])\n",
    "    plt.ylim([0, 3])\n",
    "    plt.ylabel('neural signal')\n",
    "\n",
    "    # fMRI signal\n",
    "    plt.subplot(2,1,2)\n",
    "    plt.plot(signal)\n",
    "    plt.xlim([simulation.index[0], simulation.index[-1]])\n",
    "    plt.xlabel('Time (s)')\n",
    "    plt.ylabel('fMRI signal')\n",
    "    plt.tight_layout()"
   ]
  },
  {
   "cell_type": "markdown",
   "id": "39eb99fc",
   "metadata": {},
   "source": [
    "## Example #2  Effect of noise on inference"
   ]
  },
  {
   "cell_type": "code",
   "execution_count": null,
   "id": "eb8212dc",
   "metadata": {},
   "outputs": [],
   "source": [
    "noise_models = ['ols', 'ar1']\n",
    "style = {\"description_width\": \"200px\"}\n",
    "layout = {'width': '400px'}\n",
    "\n",
    "@interact(noise=widgets.FloatSlider(min=0., max=10, value=1, step=1,\n",
    "                                      style=style, layout=layout,\n",
    "                                      description=\"Noise level\"))\n",
    "def simulate_inference(noise):\n",
    "    # get design matrix and simulate signal\n",
    "    events, dmtx, signal = simulate_bold_response(18, [1], noise)\n",
    "    clear_output(wait=True)\n",
    "\n",
    "    # plot signal and prediction\n",
    "    plt.figure()\n",
    "    plt.subplot(2, 1, 1)\n",
    "    plt.plot(signal, '.-')\n",
    "    plt.xlabel('Time (s)')\n",
    "    plt.ylabel('fMRI signal')\n",
    "    plt.subplot(2, 1, 2)\n",
    "    plt.plot(signal['raw'], signal['noisy'], '.')\n",
    "    plt.axis('square')\n",
    "    plt.xlabel('predicted')\n",
    "    plt.ylabel('observed')\n",
    "    plt.tight_layout()\n",
    "\n",
    "    for noise_model in noise_models:\n",
    "        # estimate GLM\n",
    "        labels, estimates = run_glm(signal.values,\n",
    "                                    dmtx.values,\n",
    "                                    noise_model=noise_model)\n",
    "\n",
    "        # compute contrast\n",
    "        contrast = compute_contrast(labels, estimates,\n",
    "                                    np.array([1 if 'tone_0'==reg_name else 0\n",
    "                                              for reg_name in dmtx.columns]),\n",
    "                                    contrast_type='t')\n",
    "\n",
    "        print(f\"{noise_model}: T-value: {contrast.stat()[1]:.3}\"\n",
    "             + f\", P-value: {contrast.p_value()[1]:.3}\")"
   ]
  },
  {
   "cell_type": "markdown",
   "id": "e39b0a95",
   "metadata": {},
   "source": [
    "## Example #3  fMRI noise is auto-correlated noise"
   ]
  },
  {
   "cell_type": "code",
   "execution_count": null,
   "id": "a3ee1cb2",
   "metadata": {},
   "outputs": [],
   "source": [
    "@interact(n_sim=widgets.IntSlider(min=1, max=100, value=1, step=1,\n",
    "                                      style=style, layout=layout,\n",
    "                                      description=\"num. of simulations\"))\n",
    "def simulation(n_sim):\n",
    "    simulated_time_series = []\n",
    "    for _ in range(n_sim):\n",
    "        events, dmtx, signal = simulate_bold_response(18, [1], 2)\n",
    "        clear_output(wait=True)\n",
    "        simulated_time_series.append(signal['noisy'])\n",
    "    simulated_time_series = np.vstack(simulated_time_series)\n",
    "\n",
    "    plt.subplot(2, 1, 1)\n",
    "    plt.plot(simulated_time_series.T, '.-')\n",
    "    plt.plot(signal['raw'].values, 'k.-', lw=2)\n",
    "    plt.plot([10, 11], simulated_time_series[:, 10:12].T, 'k.-', lw=3, ms=15)\n",
    "    plt.xlim([0, 25])\n",
    "    plt.xlabel('scan #')\n",
    "    plt.ylabel('fMRI signal')\n",
    "\n",
    "    plt.subplot(2, 1, 2)\n",
    "    plt.plot(simulated_time_series[:, 10],\n",
    "             simulated_time_series[:, 11], '.')\n",
    "    plt.axis('square')\n",
    "    plt.xlabel(\"scan #10\")\n",
    "    plt.ylabel(\"scan #11\")\n",
    "    plt.tight_layout()"
   ]
  }
 ],
 "metadata": {
  "kernelspec": {
   "display_name": "Python 3 (ipykernel)",
   "language": "python",
   "name": "python3"
  },
  "language_info": {
   "codemirror_mode": {
    "name": "ipython",
    "version": 3
   },
   "file_extension": ".py",
   "mimetype": "text/x-python",
   "name": "python",
   "nbconvert_exporter": "python",
   "pygments_lexer": "ipython3",
   "version": "3.9.12"
  }
 },
 "nbformat": 4,
 "nbformat_minor": 5
}
