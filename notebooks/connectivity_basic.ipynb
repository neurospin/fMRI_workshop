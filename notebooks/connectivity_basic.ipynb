{
 "cells": [
  {
   "cell_type": "code",
   "execution_count": null,
   "metadata": {},
   "outputs": [],
   "source": [
    "from IPython.display import Image\n",
    "Image(filename='../images/nilearn-logo.png') "
   ]
  },
  {
   "cell_type": "markdown",
   "metadata": {},
   "source": [
    "# Creating a connectome with [`nilearn`](http://nilearn.github.io)\n",
    "\n",
    "This is the second notebook of this tutorial in which we will use nilearn to create a connectome from real data.\n",
    "\n",
    "<div class=\"alert alert-block alert-warning\">\n",
    "<b>Warning:</b> Make sure you have run and understood the introduction notebook <em>01-introduction.ipynb</em> before diving into this one.\n",
    "</div>"
   ]
  },
  {
   "cell_type": "code",
   "execution_count": null,
   "metadata": {
    "tags": [
     "hide-cell"
    ]
   },
   "outputs": [],
   "source": [
    "# Silence warnings to prettify outputs\n",
    "import warnings\n",
    "warnings.filterwarnings(\"ignore\")"
   ]
  },
  {
   "cell_type": "markdown",
   "metadata": {},
   "source": [
    "## Outline\n",
    "\n",
    "- <a href=\"#data\">Why do we need a specialized tool to work with neuroimaging data?</a>\n",
    "- <a href=\"#subsetting\">Getting into the data: subsetting and viewing</a>\n",
    "- <a href=\"#extracting\">Extracting signal from fMRI volumes</a>\n",
    "    - <a href=\"#roi\">Choosing regions of interest</a>\n",
    "    - <a href=\"#nifti-zoo\">A quick side-note on the NiftiMasker zoo</a>\n",
    "    - <a href=\"#apply-masker\">Applying a Masker object</a>\n",
    "    - <a href=\"#dim\">Dimensions, dimensions</a>\n",
    "- <a href=\"#connectome\">Creating and viewing a connectome</a>\n",
    "- <a href=\"#noise\">Accounting for noise sources</a>"
   ]
  },
  {
   "cell_type": "markdown",
   "metadata": {},
   "source": [
    "<span id=\"data\"></span>"
   ]
  },
  {
   "cell_type": "markdown",
   "metadata": {},
   "source": [
    "## Why do we need a specialized tool to work with neuroimaging data?\n",
    "\n",
    "First of all, let's briefly consider why we might want specialized tools for working with neuroimaging data.\n",
    "\n",
    "When performing a machine learning analysis, our data often look something like this:"
   ]
  },
  {
   "cell_type": "code",
   "execution_count": null,
   "metadata": {},
   "outputs": [],
   "source": [
    "import pandas as pd\n",
    "\n",
    "# read_csv can read in just about any plain-text tabular data\n",
    "data = pd.read_csv('./data/abide2.tsv', sep='\\t')\n",
    "data.head()"
   ]
  },
  {
   "cell_type": "markdown",
   "metadata": {},
   "source": [
    "For our purposes, what's most interesting is the structure of this data set. That is, the data is structured in a tabular format, with pre-extracted features of interest. In the machine learning world, the rows are usually called *samples* while columns refer to *features*.\n",
    "\n",
    "This makes it easier to consider issues such as: which features would we like to predict? Or, how should we handle cross-validation?\n",
    "\n",
    "But if we're starting with neuroimaging data, how can create this kind of structured representation?"
   ]
  },
  {
   "cell_type": "markdown",
   "metadata": {},
   "source": [
    "### Neuroimaging data\n",
    "\n",
    "Neuroimaging data does not have a tabular structure. Instead, it has both **spatial and temporal dependencies** between successive data points. That is, knowing _where_ and _when_ something was measured tells you information about the surrounding data points.\n",
    "\n",
    "We also know that neuroimaging data contains a lot of noise that's not blood-oxygen-level dependent (BOLD), such as head motion. Since we don't think that these other noise sources are related to neuronal firing, we often need to consider how we can make sure that our analyses are not driven by these noise sources.\n",
    "\n",
    "These are all considerations that most machine learning software libraries are not designed to deal with! Nilearn therefore plays a crucial role in bringing machine learning concepts to the neuroimaging domain."
   ]
  },
  {
   "cell_type": "markdown",
   "metadata": {},
   "source": [
    "### Let's get our hands dirty!\n",
    "\n",
    "To get a sense of the problem, the quickest method is to just look at some data. You may have your own data locally that you'd like to work with. As we saw in the introduction notebook, the [`datasets`](https://nilearn.github.io/modules/reference.html#module-nilearn.datasets) module of Nilearn also provides utilities to easily download several neuroimaging data sets and atlases.\n",
    "\n",
    "<div class=\"alert alert-block alert-success\">\n",
    "These data sets (and atlases) are only accessible because research groups chose to make their collected data publicly available. We owe them a huge thank you for this!\n",
    "</div>\n",
    "\n",
    "The data set we'll use today was originally collected by [Rebecca Saxe](https://mcgovern.mit.edu/profile/rebecca-saxe/)'s group at MIT and hosted on [OpenNeuro](https://openneuro.org/datasets/ds000228/versions/1.1.0).\n",
    "\n",
    "The nilearn team preprocessed the data set with [fMRIPrep](https://fmriprep.readthedocs.io) and downsampled it to a lower resolution, so it'd be easier to work with.\n",
    "\n",
    "We can learn a lot about this data set directly [from the Nilearn documentation](https://nilearn.github.io/modules/generated/nilearn.datasets.fetch_development_fmri.html).\n",
    "\n",
    "For example, we can see that this data set contains over 150 children and adults watching a short Pixar film.\n",
    "\n",
    "Let's download the first 30 participants:"
   ]
  },
  {
   "cell_type": "code",
   "execution_count": null,
   "metadata": {
    "tags": [
     "hide-output"
    ]
   },
   "outputs": [],
   "source": [
    "from nilearn import datasets\n",
    "\n",
    "development_dataset = datasets.fetch_development_fmri(n_subjects=30)\n",
    "development_dataset.keys()"
   ]
  },
  {
   "cell_type": "markdown",
   "metadata": {},
   "source": [
    "Now, this `development_dataset` object has several attributes which provide access to the relevant information.\n",
    "\n",
    "For example, `development_dataset.phenotypic` provides access to information about the participants, such as whether they were children or adults.\n",
    "\n",
    "`development_dataset.func` holds the functional MRI (fMRI) data. If you look at it, you will see that it is a list of 30 strings, where each string is a path to a file holding the images for a specific subject:"
   ]
  },
  {
   "cell_type": "code",
   "execution_count": null,
   "metadata": {},
   "outputs": [],
   "source": [
    "len(development_dataset.func)"
   ]
  },
  {
   "cell_type": "markdown",
   "metadata": {},
   "source": [
    "Let's have a closer look at the fMRI data of the first subject. As we saw previously, we can use functions from the [`image`](https://nilearn.github.io/modules/reference.html#module-nilearn.image) module, for example [`image.load_img`](https://nilearn.github.io/modules/generated/nilearn.image.load_img.html):"
   ]
  },
  {
   "cell_type": "code",
   "execution_count": null,
   "metadata": {},
   "outputs": [],
   "source": [
    "from nilearn import image\n",
    "\n",
    "img = image.load_img(development_dataset.func[0])\n",
    "img.shape"
   ]
  },
  {
   "cell_type": "markdown",
   "metadata": {},
   "source": [
    "This means that, for the first subject, there are 168 volumes, each with a 3D structure of (50, 59, 50)."
   ]
  },
  {
   "cell_type": "markdown",
   "metadata": {},
   "source": [
    "<span id=\"subsetting\"></span>"
   ]
  },
  {
   "cell_type": "markdown",
   "metadata": {},
   "source": [
    "## Getting into the data: subsetting and viewing\n",
    "\n",
    "As we saw in the introduction notebook, Nilearn provides many methods for plotting this kind of data.\n",
    "\n",
    "We already saw [`nilearn.plotting.plot_img`](https://nilearn.github.io/modules/generated/nilearn.plotting.plot_img.html) to display a static view of our image. Here we can use [`nilearn.plotting.view_img`](https://nilearn.github.io/modules/generated/nilearn.plotting.view_img.html) to launch at interactive viewer.\n",
    "\n",
    "On the contrary to the MNI 152 template image of the introduction notebook which was a 3D image, each fMRI run here is a 4D time series (three spatial dimensions plus time). This means that we will also need to subset the data when we plot it, so that we can look at a single 3D image.\n",
    "\n",
    "Nilearn provides (at least) two ways to do this:\n",
    "\n",
    "- with [`nilearn.image.index_img`](https://nilearn.github.io/modules/generated/nilearn.image.index_img.html),\n",
    "which allows us to index a particular frame--or several frames--of a time series,\n",
    "- and with [`nilearn.image.mean_img`](https://nilearn.github.io/modules/generated/nilearn.image.mean_img.html),\n",
    "which allows us to take the mean 3D image over time.\n",
    "\n",
    "Putting these together, we can interatively view the mean image of the first participant using:"
   ]
  },
  {
   "cell_type": "code",
   "execution_count": null,
   "metadata": {},
   "outputs": [],
   "source": [
    "from nilearn import plotting\n",
    "\n",
    "mean_image_ = image.index_img(img, 0) # mean_image is 3D\n",
    "plotting.view_img(mean_image_, threshold=None)"
   ]
  },
  {
   "cell_type": "markdown",
   "metadata": {},
   "source": [
    "<span id=\"extracting\"></span>"
   ]
  },
  {
   "cell_type": "markdown",
   "metadata": {},
   "source": [
    "## Extracting signal from fMRI volumes\n",
    "\n",
    "As you can see, this data is decidedly not tabular!\n",
    "\n",
    "What we would like is to extract and transform meaningful features from this data, and store it in a format that we can easily work with. Importantly, we _could_ work with the full time series directly. But we often want to reduce the dimensionality of our data in a structured way. That is, we may only want to consider signal within certain learned or pre-defined regions of interest (ROIs), and when taking into account known sources of noise. To do this, we'll use nilearn's Masker objects.\n",
    "\n",
    "**What are the masker objects ?**\n",
    "\n",
    "First, let's think about what masking fMRI data is doing:"
   ]
  },
  {
   "cell_type": "code",
   "execution_count": null,
   "metadata": {},
   "outputs": [],
   "source": [
    "from IPython.display import Image\n",
    "Image(filename='../images/masking.jpg') "
   ]
  },
  {
   "cell_type": "markdown",
   "metadata": {},
   "source": [
    "Essentially, we can imagine overlaying a 3D grid on an image. Then, our mask tells us which cubes or “voxels” (like 3D pixels) to sample from.\n",
    "\n",
    "Since our Nifti images are 4D files, we can’t overlay a single grid – instead, we use a series of 3D grids (one for each volume in the 4D file), so we can get a measurement for each voxel at each timepoint.\n",
    "\n",
    "Masker objects allow us to apply these masks!\n",
    "\n",
    "To start, we need to define a mask (or masks) that we'd like to apply. This could correspond to one or many regions of interest.\n",
    "\n",
    "Nilearn provides methods to define your own functional parcellation (using clustering algorithms such as _k-means_), and it also provides access to other atlases that have previously been defined by researchers."
   ]
  },
  {
   "cell_type": "markdown",
   "metadata": {},
   "source": [
    "<span id=\"roi\"></span>"
   ]
  },
  {
   "cell_type": "markdown",
   "metadata": {},
   "source": [
    "### Choosing regions of interest\n",
    "\n",
    "In this tutorial, we will use the MSDL (multi-subject dictionary learning, `Varoquaux_2011`) atlas, which defines a set of _probabilistic_ ROIs across the brain. \n",
    "\n",
    "<div class=\"alert alert-block alert-info\">\n",
    "<b>Tip:</b> Nilearn ships with several atlases commonly used in the field, including the Schaefer atlas and the Harvard-Oxford atlas.\n",
    "</div>\n",
    "\n",
    "To download the MSDL atlas, we rely on the function [`nilearn.datasets.fetch_atlas_msdl`](https://nilearn.github.io/modules/generated/nilearn.datasets.fetch_atlas_msdl.html):"
   ]
  },
  {
   "cell_type": "code",
   "execution_count": null,
   "metadata": {},
   "outputs": [],
   "source": [
    "import numpy as np\n",
    "\n",
    "msdl_atlas = datasets.fetch_atlas_msdl()\n",
    "msdl_atlas.keys()"
   ]
  },
  {
   "cell_type": "code",
   "execution_count": null,
   "metadata": {},
   "outputs": [],
   "source": [
    "msdl_coords = msdl_atlas.region_coords\n",
    "n_regions = len(msdl_coords)\n",
    "print(msdl_coords)\n",
    "\n",
    "print(f'MSDL has {n_regions} ROIs, part of the following networks :\\n{np.unique(msdl_atlas.networks)}.')"
   ]
  },
  {
   "cell_type": "markdown",
   "metadata": {},
   "source": [
    "`msdl_atlas.maps` contains a string which is the path to the maps images. You can have a look at them as you would with any other image:"
   ]
  },
  {
   "cell_type": "code",
   "execution_count": null,
   "metadata": {},
   "outputs": [],
   "source": [
    "# Notice the data is 4D\n",
    "image.load_img(msdl_atlas.maps).shape"
   ]
  },
  {
   "cell_type": "markdown",
   "metadata": {},
   "source": [
    "As you can see, MSDL is a probabilistic atlas. We can view it using the function [`nilearn.plotting.plot_prob_atlas`](https://nilearn.github.io/modules/generated/nilearn.plotting.plot_prob_atlas.html):"
   ]
  },
  {
   "cell_type": "code",
   "execution_count": null,
   "metadata": {},
   "outputs": [],
   "source": [
    "plotting.plot_prob_atlas(msdl_atlas.maps, cut_coords=[6, 10, 20])"
   ]
  },
  {
   "cell_type": "markdown",
   "metadata": {},
   "source": [
    "<span id=\"nifti-zoo\"></span>"
   ]
  },
  {
   "cell_type": "markdown",
   "metadata": {},
   "source": [
    "### A quick side-note on the NiftiMasker zoo\n",
    "\n",
    "We would like to supply these ROIs to a `Masker` object. All Masker objects share the same basic structure and functionality,\n",
    "but each is designed to work with a different kind of ROI. Masker objects are defined in the [`input_data`](https://nilearn.github.io/modules/reference.html#module-nilearn.input_data) module of nilearn.\n",
    "\n",
    "The canonical [`nilearn.input_data.NiftiMasker`](https://nilearn.github.io/modules/generated/nilearn.input_data.NiftiMasker.html) works well if we want to apply a single mask to the data, like a single region of interest.\n",
    "\n",
    "But what if we actually have several ROIs that we'd like to apply to the data all at once?\n",
    "\n",
    "If these ROIs are non-overlapping, as in \"hard\" or deterministic parcellations, then we can use [`nilearn.input_data.NiftiLabelsMasker`](https://nilearn.github.io/modules/generated/nilearn.input_data.NiftiLabelsMasker.html).\n",
    "\n",
    "Because we are working with \"soft\" or probabilistic ROIs, we can instead supply these ROIs to [`nilearn.input_data.NiftiMapsMasker`](https://nilearn.github.io/modules/generated/nilearn.input_data.NiftiMapsMasker.html).\n",
    "\n",
    "For a full list of the available Masker objects, see [the Nilearn documentation](https://nilearn.github.io/modules/reference.html#module-nilearn.input_data)."
   ]
  },
  {
   "cell_type": "markdown",
   "metadata": {},
   "source": [
    "<span id=\"apply-masker\"></span>"
   ]
  },
  {
   "cell_type": "markdown",
   "metadata": {},
   "source": [
    "### Applying a Masker object\n",
    "\n",
    "We can supply our MSDL atlas-defined ROIs to the `NiftiMapsMasker` object, along with resampling, filtering, and detrending parameters."
   ]
  },
  {
   "cell_type": "code",
   "execution_count": null,
   "metadata": {},
   "outputs": [],
   "source": [
    "from nilearn import input_data\n",
    "\n",
    "masker = input_data.NiftiMapsMasker(msdl_atlas.maps,\n",
    "                                    resampling_target=\"data\",\n",
    "                                    t_r=2, detrend=True,\n",
    "                                    low_pass=0.1, high_pass=0.01).fit()"
   ]
  },
  {
   "cell_type": "markdown",
   "metadata": {},
   "source": [
    "One thing you might notice from the above code is that immediately after defining the masker object, we call the `.fit` method on it. This method may look familiar if you've previously worked with scikit-learn estimators!\n",
    "\n",
    "You'll note that we're not supplying any data to this `.fit` method; that's because we're fitting the Masker to the provided ROIs, rather than to our data."
   ]
  },
  {
   "cell_type": "markdown",
   "metadata": {},
   "source": [
    "<span id=\"dim\"></span>"
   ]
  },
  {
   "cell_type": "markdown",
   "metadata": {},
   "source": [
    "### Dimensions, dimensions\n",
    "\n",
    "We can use this fitted masker to `transform` our data."
   ]
  },
  {
   "cell_type": "code",
   "execution_count": null,
   "metadata": {},
   "outputs": [],
   "source": [
    "roi_time_series = masker.transform(development_dataset.func[0])\n",
    "roi_time_series.shape"
   ]
  },
  {
   "cell_type": "markdown",
   "metadata": {},
   "source": [
    "If you'll remember, when we first looked at the data its original dimensions were (50, 59, 50, 168).\n",
    "Now, it has a shape of (168, 39).\n",
    "What happened?!\n",
    "\n",
    "Rather than providing information on every voxel within our original 3D grid,\n",
    "we're now only considering those voxels that fall in our 39 regions of interest provided by the MSDL atlas and aggregating across voxels within those ROIS.\n",
    "This reduces each 3D volume from a dimensionality of (50, 59, 50) to just 39,\n",
    "for our 39 provided ROIs.\n",
    "\n",
    "You'll also see that the \"dimensions flipped;\"\n",
    "that is, that we've transposed the matrix such that time is now the first rather than second dimension.\n",
    "This follows the scikit-learn convention that rows in a data matrix are _samples_,\n",
    "and columns in a data matrix are _features_."
   ]
  },
  {
   "cell_type": "code",
   "execution_count": null,
   "metadata": {},
   "outputs": [],
   "source": [
    "Image(filename=\"../images/samples-features.png\")"
   ]
  },
  {
   "cell_type": "markdown",
   "metadata": {},
   "source": [
    "```\n",
    "---\n",
    "The scikit-learn conventions for feature and target matrices.\n",
    "From Jake VanderPlas's _Python Data Science Handbook_.\n",
    "```"
   ]
  },
  {
   "cell_type": "markdown",
   "metadata": {},
   "source": [
    "<div class=\"alert alert-block alert-success\">\n",
    "One of the nice things about working with nilearn is that it will impose this convention for you, so you don't accidentally flip your dimensions when using a scikit-learn model!\n",
    "</div>"
   ]
  },
  {
   "cell_type": "markdown",
   "metadata": {},
   "source": [
    "<span id=\"connectome\"></span>"
   ]
  },
  {
   "cell_type": "markdown",
   "metadata": {},
   "source": [
    "## Creating and viewing a connectome\n",
    "\n",
    "The simplest and most commonly used kind of functional connectivity is pairwise correlation between ROIs.\n",
    "\n",
    "We can estimate it using [`nilearn.connectome.ConnectivityMeasure`](https://nilearn.github.io/modules/generated/nilearn.connectome.ConnectivityMeasure.html)."
   ]
  },
  {
   "cell_type": "code",
   "execution_count": null,
   "metadata": {},
   "outputs": [],
   "source": [
    "from nilearn.connectome import ConnectivityMeasure\n",
    "\n",
    "correlation_measure = ConnectivityMeasure(kind='correlation')\n",
    "correlation_matrix = correlation_measure.fit_transform([roi_time_series])[0]"
   ]
  },
  {
   "cell_type": "markdown",
   "metadata": {},
   "source": [
    "We can then plot this functional connectivity matrix using the function [`nilearn.plotting.plot_matrix`](https://nilearn.github.io/modules/generated/nilearn.plotting.plot_matrix.html):"
   ]
  },
  {
   "cell_type": "code",
   "execution_count": null,
   "metadata": {},
   "outputs": [],
   "source": [
    "import matplotlib.pyplot as plt\n",
    "\n",
    "def set_tick_label_size(figure, fontsize):\n",
    "    \"\"\"Make tick labels more visible.\"\"\"\n",
    "    for xtick,ytick in zip(figure.axes[0].xaxis.get_major_ticks(),\n",
    "                           figure.axes[0].yaxis.get_major_ticks()):\n",
    "        xtick.label.set_fontsize(fontsize)\n",
    "        ytick.label.set_fontsize(fontsize)\n",
    "\n",
    "np.fill_diagonal(correlation_matrix, 0)\n",
    "fig = plt.figure(figsize=(8, 8))\n",
    "plotting.plot_matrix(correlation_matrix, labels=msdl_atlas.labels,\n",
    "                     vmax=0.8, vmin=-0.8, colorbar=True, figure=fig)\n",
    "set_tick_label_size(fig, 9)"
   ]
  },
  {
   "cell_type": "markdown",
   "metadata": {},
   "source": [
    "Or view it as an embedded connectome using the function [`nilearn.plotting.view_connectome`](https://nilearn.github.io/modules/generated/nilearn.plotting.view_connectome.html):"
   ]
  },
  {
   "cell_type": "code",
   "execution_count": null,
   "metadata": {},
   "outputs": [],
   "source": [
    "plotting.view_connectome(correlation_matrix, edge_threshold=0.4,\n",
    "                         node_coords=msdl_atlas.region_coords)"
   ]
  },
  {
   "cell_type": "markdown",
   "metadata": {},
   "source": [
    "<span id=\"noise\"></span>"
   ]
  },
  {
   "cell_type": "markdown",
   "metadata": {},
   "source": [
    "## Accounting for noise sources\n",
    "\n",
    "As we have already seen, maskers also allow us to perform other useful operations beyond just masking our data. One important processing step is correcting for measured signals of no interest (e.g., head motion).\n",
    "\n",
    "Our `development_dataset` also includes several of these signals of no interest that were generated during fMRIPrep pre-processing. We can access these with the `confounds` attribute, using `development_dataset.confounds`.\n",
    "\n",
    "Let's quickly check what these look like for our first participant:"
   ]
  },
  {
   "cell_type": "code",
   "execution_count": null,
   "metadata": {},
   "outputs": [],
   "source": [
    "pd.read_table(development_dataset.confounds[0]).head()"
   ]
  },
  {
   "cell_type": "markdown",
   "metadata": {},
   "source": [
    "We can see that there are several different kinds of noise sources included!\n",
    "This is actually a subset of all possible fMRIPrep generated confounds that the Nilearn developers have pre-selected.\n",
    "We could access the full list by passing the argument `reduce_confounds=False` to our original call downloading the `development_dataset`.\n",
    "For most analyses, this list of confounds is reasonable, so we'll use these Nilearn provided defaults.\n",
    "For your own analyses, make sure to check which confounds you're using!\n",
    "\n",
    "Importantly, we can pass these confounds directly to our masker object:"
   ]
  },
  {
   "cell_type": "code",
   "execution_count": null,
   "metadata": {},
   "outputs": [],
   "source": [
    "corrected_roi_time_series = masker.transform(development_dataset.func[0],\n",
    "                                             confounds=development_dataset.confounds[0])"
   ]
  },
  {
   "cell_type": "code",
   "execution_count": null,
   "metadata": {},
   "outputs": [],
   "source": [
    "corrected_correlation_matrix = correlation_measure.fit_transform(\n",
    "    [corrected_roi_time_series])[0]\n",
    "np.fill_diagonal(corrected_correlation_matrix, 0)\n",
    "fig = plt.figure(figsize=(8, 8))\n",
    "plotting.plot_matrix(corrected_correlation_matrix, labels=msdl_atlas.labels,\n",
    "                     vmax=0.8, vmin=-0.8, colorbar=True, figure=fig)\n",
    "set_tick_label_size(fig, 9)"
   ]
  },
  {
   "cell_type": "markdown",
   "metadata": {},
   "source": [
    "As before, we can also view this functional connectivity matrix as a connectome:"
   ]
  },
  {
   "cell_type": "code",
   "execution_count": null,
   "metadata": {},
   "outputs": [],
   "source": [
    "plotting.view_connectome(corrected_correlation_matrix, edge_threshold=0.3,\n",
    "                         node_coords=msdl_atlas.region_coords)"
   ]
  },
  {
   "cell_type": "markdown",
   "metadata": {},
   "source": [
    "In both the matrix and connectome forms, we can see a big difference when including the confounds!\n",
    "\n",
    "<div class=\"alert alert-block alert-warning\">\n",
    "<b>Warning:</b> This is an important reminder to make sure that your data are cleaned of any possible sources of noise <em>before</em> running a machine learning analysis. Otherwise, you might be classifying participants on e.g. amount of head motion rather than a feature of interest!\n",
    "</div>"
   ]
  },
  {
   "cell_type": "markdown",
   "metadata": {},
   "source": [
    "## Conclusion\n",
    "\n",
    "We reached the end of the second notebook of this tutorial which teached us how to build a connectome from fMRI data.\n",
    "\n",
    "More specifically, we learned how to extract signals from fMRI volumes by defining regions of interests and using a masker object. We also learned how to use [`ConnectivityMeasure`](https://nilearn.github.io/modules/generated/nilearn.connectome.ConnectivityMeasure.html) objects to compute the strengths of connections. In addition to the [`datasets`](https://nilearn.github.io/modules/reference.html#module-nilearn.datasets), [`image`](https://nilearn.github.io/modules/reference.html#module-nilearn.image), and [`plotting`](https://nilearn.github.io/modules/reference.html#module-nilearn.plotting) modules from the first notebook, we discovered here the following modules:\n",
    "\n",
    "- [`input_data`](https://nilearn.github.io/modules/reference.html#module-nilearn.input_data): Contains all maskers\n",
    "- [`connectome`](https://nilearn.github.io/modules/reference.html#module-nilearn.connectome): Contains tools for computing functional connectivity matrices\n"
   ]
  },
  {
   "cell_type": "code",
   "execution_count": null,
   "metadata": {},
   "outputs": [],
   "source": []
  },
  {
   "cell_type": "code",
   "execution_count": null,
   "metadata": {},
   "outputs": [],
   "source": []
  }
 ],
 "metadata": {
  "kernelspec": {
   "display_name": "Python 3 (ipykernel)",
   "language": "python",
   "name": "python3"
  },
  "language_info": {
   "codemirror_mode": {
    "name": "ipython",
    "version": 3
   },
   "file_extension": ".py",
   "mimetype": "text/x-python",
   "name": "python",
   "nbconvert_exporter": "python",
   "pygments_lexer": "ipython3",
   "version": "3.10.6"
  },
  "repository": {
   "url": "https://github.com/emdupre/nha2020-nilearn"
  },
  "source_map": [
   10,
   14,
   19,
   35,
   41,
   81,
   86,
   94,
   99,
   116,
   123,
   164,
   173,
   181,
   183,
   209,
   216,
   229,
   232,
   265,
   270,
   274,
   278,
   282,
   285,
   298,
   300,
   310,
   318,
   322,
   325
  ]
 },
 "nbformat": 4,
 "nbformat_minor": 4
}
